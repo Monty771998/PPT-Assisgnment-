{
 "cells": [
  {
   "cell_type": "markdown",
   "id": "a34edf33-a298-4ef5-a080-3c54f188dc5f",
   "metadata": {},
   "source": [
    "1 Write a Python program to reverse a string without using any built-in string reversal functions"
   ]
  },
  {
   "cell_type": "code",
   "execution_count": 1,
   "id": "24038810-4037-4e3c-ae53-de17d974f6d4",
   "metadata": {},
   "outputs": [
    {
     "data": {
      "text/plain": [
       "[15, 86, 74, 135, 25, 47, 15]"
      ]
     },
     "execution_count": 1,
     "metadata": {},
     "output_type": "execute_result"
    }
   ],
   "source": [
    "l=[15,47,25,135,74,86,15]\n",
    "rev_l =l[::-1]\n",
    "rev_l"
   ]
  },
  {
   "cell_type": "code",
   "execution_count": null,
   "id": "cace1fa0-4244-4bbd-bfaa-70f386503e82",
   "metadata": {},
   "outputs": [],
   "source": []
  },
  {
   "cell_type": "markdown",
   "id": "6c0b6511-9c8c-471e-a089-3d493fcf5300",
   "metadata": {},
   "source": [
    "2.Implement a function to check if a given string is a palindrome."
   ]
  },
  {
   "cell_type": "code",
   "execution_count": 2,
   "id": "a4af287b-23a2-4b5d-b23f-39bf800f450f",
   "metadata": {},
   "outputs": [
    {
     "name": "stdin",
     "output_type": "stream",
     "text": [
      "enter a string:  1221\n"
     ]
    },
    {
     "name": "stdout",
     "output_type": "stream",
     "text": [
      "it is palindrome \n"
     ]
    }
   ],
   "source": [
    "s = input('enter a string: ')\n",
    "def check_palin():\n",
    "    if s==s[::-1]:\n",
    "        print('it is palindrome ')\n",
    "    else :\n",
    "        print('it is not palindrome')\n",
    "        \n",
    "check_palin()    \n",
    "    "
   ]
  },
  {
   "cell_type": "code",
   "execution_count": null,
   "id": "fb4178cb-5dba-4a23-b061-e5a836da2509",
   "metadata": {},
   "outputs": [],
   "source": []
  },
  {
   "cell_type": "markdown",
   "id": "c793b699-2823-47a8-9945-2e9850f2c080",
   "metadata": {},
   "source": [
    "3.Write a program to find the largest element in a given list."
   ]
  },
  {
   "cell_type": "code",
   "execution_count": 3,
   "id": "1efa155c-0a9e-4a22-a4f7-368cf38418c4",
   "metadata": {},
   "outputs": [
    {
     "data": {
      "text/plain": [
       "784"
      ]
     },
     "execution_count": 3,
     "metadata": {},
     "output_type": "execute_result"
    }
   ],
   "source": [
    "from functools import reduce\n",
    "l1=[10,47,54,784,58,23,56,98]\n",
    "lar_num = reduce(lambda x,y:x if x > y else y , l1 )\n",
    "lar_num"
   ]
  },
  {
   "cell_type": "code",
   "execution_count": null,
   "id": "4a40ef98-fb33-43a9-882d-7fcc1fe944bc",
   "metadata": {},
   "outputs": [],
   "source": []
  },
  {
   "cell_type": "markdown",
   "id": "d0efc55c-ce17-432d-987e-66f26f7b5ec5",
   "metadata": {},
   "source": [
    "4.Implement a function to count the occurrence of each element in a list."
   ]
  },
  {
   "cell_type": "code",
   "execution_count": 10,
   "id": "bf118e85-ebc1-4f95-80ae-7f349c94785b",
   "metadata": {},
   "outputs": [
    {
     "data": {
      "text/plain": [
       "{11: 1, 25: 1, 47: 1, 86: 1, 66: 1, 84: 1, 23: 2, 114: 1, 5: 2, 8: 1, 0: 1}"
      ]
     },
     "execution_count": 10,
     "metadata": {},
     "output_type": "execute_result"
    }
   ],
   "source": [
    "l2=[11,25,47,86,66,84,23,114,5,8,0,23,5]\n",
    "def coun_num():\n",
    "    element_counts = {}\n",
    "\n",
    "    for element in l2:\n",
    "        if element in element_counts:\n",
    "            element_counts[element] += 1\n",
    "        else:\n",
    "            element_counts[element] = 1\n",
    "\n",
    "    return element_counts\n",
    "        \n",
    "coun_num()\n",
    "    "
   ]
  },
  {
   "cell_type": "code",
   "execution_count": null,
   "id": "44a7f95f-9289-4968-ab39-0eb4d9c21604",
   "metadata": {},
   "outputs": [],
   "source": []
  },
  {
   "cell_type": "markdown",
   "id": "17c476fd-f6f6-4910-ae31-a9c918074516",
   "metadata": {},
   "source": [
    "5.Write a Python program to find the second largest number in a list."
   ]
  },
  {
   "cell_type": "code",
   "execution_count": 16,
   "id": "d0fff88b-6804-4b79-9eee-24fade686837",
   "metadata": {},
   "outputs": [
    {
     "data": {
      "text/plain": [
       "86"
      ]
     },
     "execution_count": 16,
     "metadata": {},
     "output_type": "execute_result"
    }
   ],
   "source": [
    "l3=[11,25,47,86,66,84,23,114,5,8,0,23,5]\n",
    "l3.sort()\n",
    "l3[-2]"
   ]
  },
  {
   "cell_type": "code",
   "execution_count": null,
   "id": "266ef680-7bf2-45f9-af55-c5eefcd57f6c",
   "metadata": {},
   "outputs": [],
   "source": []
  },
  {
   "cell_type": "markdown",
   "id": "804744e5-db73-410d-8b72-e8356863999f",
   "metadata": {},
   "source": [
    "6.Implement a function to remove duplicate elements from a list."
   ]
  },
  {
   "cell_type": "code",
   "execution_count": 18,
   "id": "f84eb77e-640e-47ce-adb4-9f42dd7b5250",
   "metadata": {},
   "outputs": [
    {
     "data": {
      "text/plain": [
       "[0, 66, 5, 8, 11, 47, 114, 84, 86, 23, 25]"
      ]
     },
     "execution_count": 18,
     "metadata": {},
     "output_type": "execute_result"
    }
   ],
   "source": [
    "def unique_num():\n",
    "    l4=[11,25,47,86,66,84,23,114,5,66,23,11,0,5,5,8,0,23,5]\n",
    "    num = list(set(l4))\n",
    "    return num\n",
    "unique_num()"
   ]
  },
  {
   "cell_type": "code",
   "execution_count": null,
   "id": "7ec36d15-64b9-426f-a907-22482c5f7306",
   "metadata": {},
   "outputs": [],
   "source": []
  },
  {
   "cell_type": "markdown",
   "id": "ec4ab473-2a2e-4c60-a40b-e132c0774dc8",
   "metadata": {},
   "source": [
    "7.Write a program to calculate the factorial of a given number."
   ]
  },
  {
   "cell_type": "code",
   "execution_count": 39,
   "id": "a24e4859-8d85-4653-8bf6-af5686490419",
   "metadata": {},
   "outputs": [
    {
     "name": "stdin",
     "output_type": "stream",
     "text": [
      "enter a number here:  5\n"
     ]
    },
    {
     "data": {
      "text/plain": [
       "120"
      ]
     },
     "execution_count": 39,
     "metadata": {},
     "output_type": "execute_result"
    }
   ],
   "source": [
    "x = int(input('enter a number here: '))\n",
    "def fac(x):\n",
    "    num = 1\n",
    "    while x>1:\n",
    "        num*=x\n",
    "        x-=1\n",
    "    return num\n",
    "fac(x)"
   ]
  },
  {
   "cell_type": "code",
   "execution_count": null,
   "id": "e09c8c79-1d75-4a19-82c9-48a07012e6df",
   "metadata": {},
   "outputs": [],
   "source": []
  },
  {
   "cell_type": "markdown",
   "id": "270bcc89-41f6-4781-9bca-f7c77fb4a077",
   "metadata": {},
   "source": [
    "8.Implement a function to check if a given number is prime."
   ]
  },
  {
   "cell_type": "code",
   "execution_count": 34,
   "id": "bbf1e152-d7d6-4426-be6e-fff0334be94b",
   "metadata": {},
   "outputs": [
    {
     "name": "stdin",
     "output_type": "stream",
     "text": [
      "enter a number here:  19\n"
     ]
    },
    {
     "name": "stdout",
     "output_type": "stream",
     "text": [
      "it is prime number 19\n"
     ]
    }
   ],
   "source": [
    "x = int(input('enter a number here: '))\n",
    "def prime_num(x):\n",
    "    for i in range(2,x):\n",
    "        if x%i==0:\n",
    "            print('it is not a prime number')\n",
    "            break\n",
    "    else:\n",
    "        return print('it is prime number',x) \n",
    "    \n",
    "        \n",
    "    \n",
    "prime_num(x)"
   ]
  },
  {
   "cell_type": "code",
   "execution_count": null,
   "id": "ad3556b9-23cd-416f-a810-e5edf1d54c3b",
   "metadata": {},
   "outputs": [],
   "source": []
  },
  {
   "cell_type": "markdown",
   "id": "ec5b5265-cd3f-45ac-85e5-d9a9718d579c",
   "metadata": {},
   "source": [
    "9.Write a Python program to sort a list of integers in ascending order."
   ]
  },
  {
   "cell_type": "code",
   "execution_count": 35,
   "id": "5720f3b2-09e8-4574-baf4-2a3232e557c3",
   "metadata": {},
   "outputs": [
    {
     "data": {
      "text/plain": [
       "[0, 0, 5, 5, 5, 8, 11, 11, 23, 23, 23, 25, 47, 66, 66, 84, 86, 114]"
      ]
     },
     "execution_count": 35,
     "metadata": {},
     "output_type": "execute_result"
    }
   ],
   "source": [
    "l5=[11,25,47,86,66,84,23,114,5,66,23,11,0,5,5,8,0,23,]\n",
    "l5.sort()\n",
    "l5\n"
   ]
  },
  {
   "cell_type": "code",
   "execution_count": null,
   "id": "10b3adb8-49f5-4fc5-a103-8b450c504313",
   "metadata": {},
   "outputs": [],
   "source": []
  },
  {
   "cell_type": "markdown",
   "id": "cc5705b3-78ad-4ef5-9653-e7f8f210e54f",
   "metadata": {},
   "source": [
    "10.Implement a function to find the sum of all numbers in a list."
   ]
  },
  {
   "cell_type": "code",
   "execution_count": 38,
   "id": "35a2d858-6782-4dfe-9f39-0e71966dab7d",
   "metadata": {},
   "outputs": [
    {
     "data": {
      "text/plain": [
       "602"
      ]
     },
     "execution_count": 38,
     "metadata": {},
     "output_type": "execute_result"
    }
   ],
   "source": [
    "def sums():\n",
    "    l5=[11,25,47,86,66,84,23,114,5,66,23,11,0,5,5,8,0,23,]\n",
    "    total = sum(l5)\n",
    "    return total\n",
    "sums()"
   ]
  },
  {
   "cell_type": "code",
   "execution_count": null,
   "id": "84d91b34-7e2a-46c8-93f5-897427d0626d",
   "metadata": {},
   "outputs": [],
   "source": []
  },
  {
   "cell_type": "markdown",
   "id": "ebb8d152-63b0-4f60-ad87-d10387bdcac5",
   "metadata": {},
   "source": [
    "11.Write a program to find the common elements between two lists."
   ]
  },
  {
   "cell_type": "code",
   "execution_count": 23,
   "id": "d107337c-ec38-4686-b91b-eaffcf0273b0",
   "metadata": {},
   "outputs": [
    {
     "data": {
      "text/plain": [
       "[0, 66, 5, 8, 11, 47, 114, 84, 86, 23, 25]"
      ]
     },
     "execution_count": 23,
     "metadata": {},
     "output_type": "execute_result"
    }
   ],
   "source": [
    "l6=[11,25,47,86,66,84,23,114,5,8,0,23,5]\n",
    "l7=[11,25,47,86,66,84,23,114,5,66,23,11,0,5,5,8,0,23]\n",
    "common = list(set(l6).intersection(l7))\n",
    "common\n"
   ]
  },
  {
   "cell_type": "code",
   "execution_count": null,
   "id": "452224d1-92bd-4d5b-8c3c-05a21d5e330a",
   "metadata": {},
   "outputs": [],
   "source": []
  },
  {
   "cell_type": "markdown",
   "id": "6c017759-9804-4a6a-802c-aa9fff62d7b2",
   "metadata": {},
   "source": [
    "12.Implement a function to check if a given string is an anagram of another string."
   ]
  },
  {
   "cell_type": "code",
   "execution_count": 21,
   "id": "3859553b-7252-4b3d-ab6f-5bb10fb90577",
   "metadata": {},
   "outputs": [
    {
     "name": "stdout",
     "output_type": "stream",
     "text": [
      "The strings are anagrams.\n"
     ]
    }
   ],
   "source": [
    "def is_anagram(str1, str2):\n",
    "    \"\"\"\n",
    "    Checking if a given string is an anagram of another string.\n",
    "    \"\"\"\n",
    "    # Convert both strings to lowercase and remove whitespace\n",
    "    str1 = str1.lower().replace(\" \", \"\")\n",
    "    str2 = str2.lower().replace(\" \", \"\")\n",
    "\n",
    "    # Check if the lengths are different\n",
    "    if len(str1) != len(str2):\n",
    "        return False\n",
    "\n",
    "    # Sort the characters of both strings and compare\n",
    "    if sorted(str1) != sorted(str2):\n",
    "        return False\n",
    "    else:\n",
    "        return True\n",
    "\n",
    "\n",
    "# Example usage:\n",
    "string1 = \"listen\"\n",
    "string2 = \"silent\"\n",
    "\n",
    "if is_anagram(string1, string2):\n",
    "    print(\"The strings are anagrams.\")\n",
    "else:\n",
    "    print(\"The strings are not anagrams.\")\n"
   ]
  },
  {
   "cell_type": "code",
   "execution_count": null,
   "id": "12b15523-f5d1-4213-8675-b5f8e32ce743",
   "metadata": {},
   "outputs": [],
   "source": []
  },
  {
   "cell_type": "markdown",
   "id": "899011d0-6c87-4bd5-92f8-8c6219021634",
   "metadata": {},
   "source": [
    "13.Write a Python program to generate all permutations of a given string."
   ]
  },
  {
   "cell_type": "code",
   "execution_count": 18,
   "id": "3973aeb5-0898-442c-9237-fa245149d2a6",
   "metadata": {},
   "outputs": [
    {
     "name": "stdout",
     "output_type": "stream",
     "text": [
      "book\n",
      "boko\n",
      "book\n",
      "boko\n",
      "bkoo\n",
      "bkoo\n",
      "obok\n",
      "obko\n",
      "oobk\n",
      "ookb\n",
      "okbo\n",
      "okob\n",
      "obok\n",
      "obko\n",
      "oobk\n",
      "ookb\n",
      "okbo\n",
      "okob\n",
      "kboo\n",
      "kboo\n",
      "kobo\n",
      "koob\n",
      "kobo\n",
      "koob\n"
     ]
    }
   ],
   "source": [
    "#importing permutations\n",
    "from itertools import permutations\n",
    "\n",
    "#using list comprenhension by converting tuple into string\n",
    "st=[''.join(p) for p in permutations('book')]\n",
    "\n",
    "#loop for each item in list\n",
    "for i in st:\n",
    "    print(i)\n",
    "    "
   ]
  },
  {
   "cell_type": "code",
   "execution_count": null,
   "id": "8e2bdc6b-fb14-4424-8729-c15e0cf4a773",
   "metadata": {},
   "outputs": [],
   "source": []
  },
  {
   "cell_type": "markdown",
   "id": "1a922d3a-78f6-4657-b499-9a02705375d9",
   "metadata": {},
   "source": [
    "14.Implement a function to calculate the Fibonacci sequence up to a given number of terms."
   ]
  },
  {
   "cell_type": "code",
   "execution_count": 22,
   "id": "c115633b-efc2-4fa0-ab2a-06b106544ac1",
   "metadata": {},
   "outputs": [
    {
     "name": "stdin",
     "output_type": "stream",
     "text": [
      "enter a number : 10\n"
     ]
    },
    {
     "name": "stdout",
     "output_type": "stream",
     "text": [
      "0\n",
      "1\n",
      "1\n",
      "2\n",
      "3\n",
      "5\n",
      "8\n",
      "13\n",
      "21\n",
      "34\n"
     ]
    }
   ],
   "source": [
    "#taking input from users\n",
    "n= int(input('enter a number :'))\n",
    "\n",
    "#creating function for fibonacci sequence\n",
    "def fib(n):\n",
    "    a,b =0,1\n",
    "    for i in range(n):\n",
    "        print(a)\n",
    "        a,b=b,a+b\n",
    "\n",
    "#calling function        \n",
    "fib(n)"
   ]
  },
  {
   "cell_type": "code",
   "execution_count": null,
   "id": "699e7fb9-8e03-4dd0-a290-e43464f6ed6d",
   "metadata": {},
   "outputs": [],
   "source": []
  },
  {
   "cell_type": "markdown",
   "id": "e5ff8af7-7aa4-4a2a-b03e-17afe5c473a0",
   "metadata": {},
   "source": [
    "15.Write a program to find the median of a list of numbers."
   ]
  },
  {
   "cell_type": "code",
   "execution_count": 33,
   "id": "f6a548c1-5cd3-4a29-aebf-4d3245a568bf",
   "metadata": {},
   "outputs": [
    {
     "data": {
      "text/plain": [
       "23"
      ]
     },
     "execution_count": 33,
     "metadata": {},
     "output_type": "execute_result"
    }
   ],
   "source": [
    "l7=[11,25,47,86,66,84,23,114,5,66,23,11,0,5,5,8,0,23]\n",
    "\n",
    "#sorting list into ascending order by using sort method\n",
    "l7.sort()\n",
    "\n",
    "#checking length is even or odd then calculating medium\n",
    "if len(l7)%2==0:\n",
    "    medium = l7[int(len(l7)/2)]\n",
    "else:\n",
    "    medium= l7[int(len(l7+1)/2)]\n",
    "\n",
    "#calling variavle    \n",
    "medium"
   ]
  },
  {
   "cell_type": "code",
   "execution_count": null,
   "id": "d1626729-7d70-4aba-8422-ee0cb5a9c5f4",
   "metadata": {},
   "outputs": [],
   "source": []
  },
  {
   "cell_type": "markdown",
   "id": "59d80c42-d2e3-4937-b991-5ee053a0bbfc",
   "metadata": {},
   "source": [
    "16.Implement a function to check if a given list is sorted in non-decreasing order."
   ]
  },
  {
   "cell_type": "code",
   "execution_count": 36,
   "id": "f9e24d43-020b-4e2f-9e4b-4958405eb115",
   "metadata": {},
   "outputs": [],
   "source": [
    "def is_sorted(nums):\n",
    "    '''\n",
    "    Checkhing if a given list is sorted in non-decreasing order.\n",
    "    '''\n",
    "    \n",
    "    #checking condion satisfy in all item of list\n",
    "    return all(nums[i] <= nums[i+1] for i in range(len(nums) - 1))\n",
    "\n",
    "l8=[0, 0, 5, 5, 5, 8, 11, 11, 23, 23, 23, 25, 47, 66, 66, 84, 86, 114]\n",
    "\n",
    "\n",
    "if is_sorted(my_list):\n",
    "    print(\"The list is sorted in non-decreasing order.\")\n",
    "else:\n",
    "    print(\"The list is not sorted in non-decreasing order.\"\n",
    "\n",
    "    "
   ]
  },
  {
   "cell_type": "code",
   "execution_count": null,
   "id": "e25b860b-80e2-4f0a-a62f-91a453be4b1c",
   "metadata": {},
   "outputs": [],
   "source": []
  },
  {
   "cell_type": "markdown",
   "id": "774ef2e2-b7ca-420e-ab72-7a0c39894d08",
   "metadata": {},
   "source": [
    "17.Write a Python program to find the intersection of two lists."
   ]
  },
  {
   "cell_type": "code",
   "execution_count": 43,
   "id": "15ad7b1f-357b-4e69-9c66-22b96bda717d",
   "metadata": {},
   "outputs": [
    {
     "data": {
      "text/plain": [
       "[66, 5, 11, 47, 114, 84, 86, 23, 25]"
      ]
     },
     "execution_count": 43,
     "metadata": {},
     "output_type": "execute_result"
    }
   ],
   "source": [
    "l9=[11,25,47,86,66,84,114,5,0,23,5]\n",
    "l10=[11,25,47,86,66,84,23,114,5,66,23]\n",
    "\n",
    "#using intersection method to find out common element in list\n",
    "common = list(set(l9).intersection(l10))\n",
    "\n",
    "#calling variable\n",
    "common\n"
   ]
  },
  {
   "cell_type": "code",
   "execution_count": null,
   "id": "ca060254-5854-4196-b1ae-82cb75d5bad5",
   "metadata": {},
   "outputs": [],
   "source": []
  },
  {
   "cell_type": "markdown",
   "id": "0d296cdb-436e-4711-9d10-6571b45f8e7e",
   "metadata": {},
   "source": [
    "18.Implement a function to find the maximum subarray sum in a given list."
   ]
  },
  {
   "cell_type": "code",
   "execution_count": 50,
   "id": "64e2bd83-c9b2-4ff1-9c3c-00e7e0a1b1c9",
   "metadata": {},
   "outputs": [
    {
     "data": {
      "text/plain": [
       "12"
      ]
     },
     "execution_count": 50,
     "metadata": {},
     "output_type": "execute_result"
    }
   ],
   "source": [
    "def max_subarray_sum(numbers):\n",
    "    \n",
    "    \n",
    "    max_ending_here = 0\n",
    "    max_so_far = -float(\"inf\")\n",
    "\n",
    "    for number in numbers:\n",
    "        max_ending_here = max_ending_here + number\n",
    "        \n",
    "        if max_ending_here < 0:\n",
    "            max_ending_here = 0\n",
    "\n",
    "        if max_so_far < max_ending_here:\n",
    "            max_so_far = max_ending_here\n",
    "\n",
    "    return max_so_far\n",
    "\n",
    "numbers = [1, 2, -3, 4, -1, 6, -2, 5]\n",
    "max_subarray_sum(numbers)"
   ]
  },
  {
   "cell_type": "code",
   "execution_count": null,
   "id": "8d2dc3a3-bf7e-47ac-9be6-09a0713e8a96",
   "metadata": {},
   "outputs": [],
   "source": []
  },
  {
   "cell_type": "markdown",
   "id": "08f00700-85d7-4980-80de-e63e5d94d774",
   "metadata": {},
   "source": [
    "19.Write a program to remove all vowels from a given string."
   ]
  },
  {
   "cell_type": "code",
   "execution_count": 19,
   "id": "806246d3-d2b2-408a-bf4d-c86e5c29a7fb",
   "metadata": {},
   "outputs": [
    {
     "name": "stdin",
     "output_type": "stream",
     "text": [
      "enter a strings data  science\n"
     ]
    },
    {
     "data": {
      "text/plain": [
       "'dt  scnc'"
      ]
     },
     "execution_count": 19,
     "metadata": {},
     "output_type": "execute_result"
    }
   ],
   "source": [
    "#taking input from user\n",
    "strings = input('enter a strings')\n",
    "\n",
    "def rem_vow(strings):\n",
    "    '''\n",
    "    creating function for removing vowels\n",
    "    '''\n",
    "    vowels = 'aeiouAEIOU'\n",
    "    return ''.join(s for s in strings if s not in vowels)\n",
    "\n",
    "rem_vow(strings)\n",
    "    "
   ]
  },
  {
   "cell_type": "code",
   "execution_count": null,
   "id": "f1c90420-3d03-468a-827e-0977a2498b97",
   "metadata": {},
   "outputs": [],
   "source": []
  },
  {
   "cell_type": "markdown",
   "id": "e6ddc409-f1dd-469b-bc10-5219dd1bca7b",
   "metadata": {},
   "source": [
    "20.Implement a function to reverse the order of words in a given sentence."
   ]
  },
  {
   "cell_type": "code",
   "execution_count": 17,
   "id": "d59c2844-7c37-482d-8e54-35878aec2cb8",
   "metadata": {},
   "outputs": [
    {
     "data": {
      "text/plain": [
       "\"youngsters people,\\nespecially many for income of source major a become have YouTube like platforms video era, digital today's In\""
      ]
     },
     "execution_count": 17,
     "metadata": {},
     "output_type": "execute_result"
    }
   ],
   "source": [
    "sent = \"\"\"In today's digital era, video platforms like YouTube have become a major source of income for many people,\n",
    "especially youngsters\"\"\"\n",
    "\n",
    "def rev_words(sent):\n",
    "    \"\"\"creating function for reversing words of sentences\"\"\"\n",
    "    split_words = sent.split(\" \") #spliting sentences into words on the basis of space\n",
    "    reverse_words = split_words[::-1] #reversing the order of words\n",
    "    reverse_sent = ' '.join(reverse_words) #joining the reverse words with adding space\n",
    "    return reverse_sent\n",
    "\n",
    "#calling function    \n",
    "rev_words(sent)    "
   ]
  },
  {
   "cell_type": "code",
   "execution_count": null,
   "id": "885070ea-489a-4801-bbb9-7d4cb1dc7af5",
   "metadata": {},
   "outputs": [],
   "source": []
  },
  {
   "cell_type": "markdown",
   "id": "c9373070-ce4f-4b76-855f-6110f316263a",
   "metadata": {},
   "source": [
    "21.Write a Python program to check if two strings are anagrams of each other."
   ]
  },
  {
   "cell_type": "code",
   "execution_count": 23,
   "id": "b7ce0a69-ab92-4b72-965b-b4a400ed1d59",
   "metadata": {},
   "outputs": [
    {
     "name": "stdout",
     "output_type": "stream",
     "text": [
      "The strings are anagrams.\n"
     ]
    }
   ],
   "source": [
    "def is_anagram(str1, str2):\n",
    "    \"\"\"\n",
    "    Checking if a given string is an anagram of another string.\n",
    "    \"\"\"\n",
    "    # Convert both strings to lowercase and remove whitespace\n",
    "    str1 = str1.lower().replace(\" \", \"\")\n",
    "    str2 = str2.lower().replace(\" \", \"\")\n",
    "\n",
    "    # Check if the lengths are different\n",
    "    if len(str1) != len(str2):\n",
    "        return False\n",
    "\n",
    "    # Sort the characters of both strings and compare\n",
    "    if sorted(str1) != sorted(str2):\n",
    "        return False\n",
    "    else:\n",
    "        return True\n",
    "\n",
    "\n",
    "# Example usage:\n",
    "string1 = \"listen\"\n",
    "string2 = \"silent\"\n",
    "\n",
    "if is_anagram(string1, string2):\n",
    "    print(\"The strings are anagrams.\")\n",
    "else:\n",
    "    print(\"The strings are not anagrams.\")\n"
   ]
  },
  {
   "cell_type": "code",
   "execution_count": null,
   "id": "dddcb853-e3a8-41c1-bbda-f7ba811004df",
   "metadata": {},
   "outputs": [],
   "source": []
  },
  {
   "cell_type": "markdown",
   "id": "f8560382-16ca-4d08-8d1e-00a4f6399946",
   "metadata": {},
   "source": [
    "22.Implement a function to find the first non-repeating character in a string."
   ]
  },
  {
   "cell_type": "code",
   "execution_count": 30,
   "id": "6ae7d272-65ab-46a3-9b59-7136e0712c95",
   "metadata": {},
   "outputs": [
    {
     "name": "stdin",
     "output_type": "stream",
     "text": [
      "enter a string here:  aab\n"
     ]
    },
    {
     "data": {
      "text/plain": [
       "'b'"
      ]
     },
     "execution_count": 30,
     "metadata": {},
     "output_type": "execute_result"
    }
   ],
   "source": [
    "#asking string from user\n",
    "str1 = input('enter a string here: ')\n",
    "\n",
    "def fir_nonrep_num(str1):\n",
    "    '''creating a function for finding first non-repeating character'''\n",
    "    \n",
    "    dic = {} #creating empty dictionary\n",
    "    for char in str1: #iterating char in string\n",
    "        if char in dic: #increamenting the character if it is present in dictionary\n",
    "            dic[char]+=1\n",
    "        else:\n",
    "            dic[char]=1\n",
    "            \n",
    "         \n",
    "    for char in str1:\n",
    "        if dic[char]==1: #if character is appears only one time in dictionary ,then it is first non repeating character\n",
    "            return char\n",
    "    \n",
    "    return None\n",
    "\n",
    "fir_nonrep_num(str1)"
   ]
  },
  {
   "cell_type": "markdown",
   "id": "50190d2c-9815-4258-b3d4-799c850f23a8",
   "metadata": {},
   "source": [
    "23.Write a program to find the prime factors of a given number."
   ]
  },
  {
   "cell_type": "code",
   "execution_count": 59,
   "id": "57fd3d36-a90d-4ed0-aaa9-9d8e3bb48d67",
   "metadata": {},
   "outputs": [
    {
     "data": {
      "text/plain": [
       "[2, 2, 3]"
      ]
     },
     "execution_count": 59,
     "metadata": {},
     "output_type": "execute_result"
    }
   ],
   "source": [
    "def prime_factors(number):\n",
    "    '''finding of prime factor of given number'''\n",
    "    \n",
    "    factors = []\n",
    "    for i in range(2, int(number ** 0.5) + 1):\n",
    "        while number % i == 0:\n",
    "          factors.append(i)\n",
    "          number //= i\n",
    "\n",
    "    if number > 1:\n",
    "        factors.append(number)\n",
    "\n",
    "    return factors\n",
    "\n",
    "prime_factors(12)"
   ]
  },
  {
   "cell_type": "code",
   "execution_count": null,
   "id": "3e846710-a2e5-4695-ac84-0dab726e9ef5",
   "metadata": {},
   "outputs": [],
   "source": []
  },
  {
   "cell_type": "markdown",
   "id": "e40ab53d-98a9-412e-b4c5-517caee121b4",
   "metadata": {},
   "source": [
    "24.Implement a function to check if a given number is a power of two."
   ]
  },
  {
   "cell_type": "code",
   "execution_count": 58,
   "id": "ce5bc17b-a99a-4b68-8155-50ff385e10d8",
   "metadata": {},
   "outputs": [
    {
     "data": {
      "text/plain": [
       "False"
      ]
     },
     "execution_count": 58,
     "metadata": {},
     "output_type": "execute_result"
    }
   ],
   "source": [
    "def check_num(number):\n",
    "    '''Check if a given number is a power of two'''\n",
    "    if number <= 0:\n",
    "        return False\n",
    "\n",
    "    while number > 1:\n",
    "        if number % 2 == 0:\n",
    "            number //= 2\n",
    "        else:\n",
    "             break\n",
    "\n",
    "    return number ==1\n",
    "        \n",
    "    \n",
    "    \n",
    "check_num(63)"
   ]
  },
  {
   "cell_type": "markdown",
   "id": "510e43b0-7d27-42e3-b946-2ebbe0ccd181",
   "metadata": {},
   "source": [
    "25.Write a Python program to merge two sorted lists into a single sorted list."
   ]
  },
  {
   "cell_type": "code",
   "execution_count": 20,
   "id": "56c1b71f-3810-44a0-9aae-481b9ace7491",
   "metadata": {},
   "outputs": [
    {
     "data": {
      "text/plain": [
       "[15, 15, 32, 41, 68, 75, 10, 20, 36, 45, 56, 87]"
      ]
     },
     "execution_count": 20,
     "metadata": {},
     "output_type": "execute_result"
    }
   ],
   "source": [
    "l9=[15,41,75,68,32,15]\n",
    "l10=[56,87,45,36,20,10]\n",
    "sorted(l9)+sorted(l10) #using sorted function to sort list and adding them\n"
   ]
  },
  {
   "cell_type": "code",
   "execution_count": null,
   "id": "e4128aba-70b7-4cec-9565-4dcbcadb39a1",
   "metadata": {},
   "outputs": [],
   "source": []
  },
  {
   "cell_type": "markdown",
   "id": "5c19dfeb-6bc3-40aa-8981-e3c913a74ba1",
   "metadata": {},
   "source": [
    "26.Implement a function to find the mode of a list of numbers."
   ]
  },
  {
   "cell_type": "code",
   "execution_count": 6,
   "id": "f6a9f8b9-166c-4346-a91d-beeba2ce5c85",
   "metadata": {},
   "outputs": [
    {
     "data": {
      "text/plain": [
       "15"
      ]
     },
     "execution_count": 6,
     "metadata": {},
     "output_type": "execute_result"
    }
   ],
   "source": [
    "l11 =[15, 15, 32, 41, 68, 75, 10, 20, 36, 45, 56, 87]\n",
    "def mode_num(l11):\n",
    "    '''getting mode of given list'''\n",
    "    mode_count = 0\n",
    "    mode_number = 0\n",
    "\n",
    "    for number in l11:\n",
    "        count = l11.count(number)\n",
    "        if count > mode_count:\n",
    "            mode_count = count\n",
    "            mode_number = number\n",
    "            \n",
    "    return mode_number\n",
    "\n",
    "mode_num(l11)\n",
    "    \n",
    "    "
   ]
  },
  {
   "cell_type": "code",
   "execution_count": null,
   "id": "4a6036aa-6d6c-467e-93ac-51759c1f9186",
   "metadata": {},
   "outputs": [],
   "source": []
  },
  {
   "cell_type": "markdown",
   "id": "f9b4a2e2-bff5-4670-9e8d-bf7921dc2638",
   "metadata": {},
   "source": [
    "27.Write a program to find the greatest common divisor (GCD) of two numbers."
   ]
  },
  {
   "cell_type": "code",
   "execution_count": 20,
   "id": "83387656-a6dc-46db-8160-a11fd72183f9",
   "metadata": {},
   "outputs": [
    {
     "data": {
      "text/plain": [
       "6"
      ]
     },
     "execution_count": 20,
     "metadata": {},
     "output_type": "execute_result"
    }
   ],
   "source": [
    "def GCD(a,b):\n",
    "    list1=[]\n",
    "    list2=[]\n",
    "    for i in range(2,a+1):\n",
    "        if a%i==0:\n",
    "            list1.append(i)\n",
    "            \n",
    "    for j in range(2,b+1):\n",
    "        if b%j==0:\n",
    "            list2.append(j)\n",
    "            \n",
    "    return max(list(set(list1).intersection(list2)))\n",
    "            \n",
    "\n",
    "GCD(6,12)        "
   ]
  },
  {
   "cell_type": "code",
   "execution_count": null,
   "id": "38a48c14-bdb8-4ccb-82e7-8e63837df150",
   "metadata": {},
   "outputs": [],
   "source": []
  },
  {
   "cell_type": "markdown",
   "id": "d996a22d-0196-46f9-99d0-3dfdfbc91874",
   "metadata": {},
   "source": [
    "28.Implement a function to calculate the square root of a given number."
   ]
  },
  {
   "cell_type": "code",
   "execution_count": 22,
   "id": "f3bb0c91-233f-4818-a69d-109995dca173",
   "metadata": {},
   "outputs": [
    {
     "data": {
      "text/plain": [
       "4.242640687119285"
      ]
     },
     "execution_count": 22,
     "metadata": {},
     "output_type": "execute_result"
    }
   ],
   "source": [
    "def sq_root(a):\n",
    "    return a**0.5\n",
    "sq_root(18)"
   ]
  },
  {
   "cell_type": "code",
   "execution_count": null,
   "id": "ff140162-122e-47b1-b1f8-c09d7dbe2c22",
   "metadata": {},
   "outputs": [],
   "source": []
  },
  {
   "cell_type": "markdown",
   "id": "71896ae6-b3c0-4d5b-b127-31cc4e6feabb",
   "metadata": {},
   "source": [
    "29.Write a Python program to check if a given string is a valid palindrome ignoring non-alphanumeric characters."
   ]
  },
  {
   "cell_type": "code",
   "execution_count": 1,
   "id": "5cc02556-00df-4649-b9be-c474e286617c",
   "metadata": {},
   "outputs": [
    {
     "name": "stdout",
     "output_type": "stream",
     "text": [
      "False\n"
     ]
    }
   ],
   "source": [
    "def is_palindrome(string):\n",
    "    \"\"\"\n",
    "    Checks if a given string is a valid palindrome ignoring non-alphanumeric characters.\n",
    "    \"\"\"\n",
    "\n",
    "    new_string = \"\"\n",
    "    for character in string:\n",
    "        if character.isalnum():\n",
    "            new_string += character\n",
    "\n",
    "    return new_string == new_string[::-1]\n",
    "\n",
    "\n",
    "\n",
    "string = \"A man, a plan, a canal: Panama\"\n",
    "print(is_palindrome(string))\n"
   ]
  },
  {
   "cell_type": "code",
   "execution_count": null,
   "id": "e08cfd06-5e21-431b-b5d3-5c88797ce536",
   "metadata": {},
   "outputs": [],
   "source": []
  },
  {
   "cell_type": "markdown",
   "id": "2c3a0e1d-a610-4806-aa51-50a5ed69bba8",
   "metadata": {},
   "source": [
    "30.Implement a function to find the minimum element in a rotated sorted list."
   ]
  },
  {
   "cell_type": "code",
   "execution_count": 3,
   "id": "87b6e7cc-882d-4966-b1b6-03a5d72a102a",
   "metadata": {},
   "outputs": [
    {
     "data": {
      "text/plain": [
       "1"
      ]
     },
     "execution_count": 3,
     "metadata": {},
     "output_type": "execute_result"
    }
   ],
   "source": [
    "def find_min_element(nums):\n",
    "\n",
    "    left = 0\n",
    "    right = len(nums) - 1\n",
    "\n",
    "    while left < right:\n",
    "        mid = left + (right - left) // 2\n",
    "\n",
    "        if nums[mid] > nums[right]:\n",
    "            left = mid + 1\n",
    "        else:\n",
    "            right = mid\n",
    "\n",
    "    return nums[left]\n",
    "\n",
    "\n",
    "find_min_element([11, 13, 15, 1, 3, 5, 7])"
   ]
  },
  {
   "cell_type": "code",
   "execution_count": null,
   "id": "dd7e041f-ec14-4d57-9fe6-719f02e9f00f",
   "metadata": {},
   "outputs": [],
   "source": []
  },
  {
   "cell_type": "markdown",
   "id": "152f6849-037a-4eee-b81a-313c870a1f6b",
   "metadata": {},
   "source": [
    "31.Write a program to find the sum of all even numbers in a list."
   ]
  },
  {
   "cell_type": "code",
   "execution_count": 9,
   "id": "69573903-c5af-4d86-90ae-edb1f84b64c6",
   "metadata": {},
   "outputs": [
    {
     "data": {
      "text/plain": [
       "260"
      ]
     },
     "execution_count": 9,
     "metadata": {},
     "output_type": "execute_result"
    }
   ],
   "source": [
    "l12=[10,45,86,96,35,75,68]\n",
    "sums=0 \n",
    "for i in l12:\n",
    "    if i%2==0:\n",
    "        sums+=i\n",
    "    else:\n",
    "        continue\n",
    "        \n",
    "sums"
   ]
  },
  {
   "cell_type": "code",
   "execution_count": null,
   "id": "a638057f-e2a9-4321-8699-be70bdafdd1a",
   "metadata": {},
   "outputs": [],
   "source": []
  },
  {
   "cell_type": "markdown",
   "id": "1ff9fc9a-a1ea-455a-9d9f-3217fde576b8",
   "metadata": {},
   "source": [
    "32.Implement a function to calculate the power of a number using recursion."
   ]
  },
  {
   "cell_type": "code",
   "execution_count": 10,
   "id": "ff450a10-2cfe-4ee7-a4a1-363ad5f4b151",
   "metadata": {},
   "outputs": [
    {
     "data": {
      "text/plain": [
       "10000"
      ]
     },
     "execution_count": 10,
     "metadata": {},
     "output_type": "execute_result"
    }
   ],
   "source": [
    "def power(x, n):\n",
    "    '''function to calculate the power of a number using recursion.'''\n",
    "    if n == 0:\n",
    "        return 1\n",
    "    elif n == 1:\n",
    "        return x\n",
    "    else:\n",
    "        return x * power(x, n - 1)\n",
    "power(10,4)"
   ]
  },
  {
   "cell_type": "code",
   "execution_count": null,
   "id": "f2a61c9e-881a-4553-9c1a-211f4eb431fd",
   "metadata": {},
   "outputs": [],
   "source": []
  },
  {
   "cell_type": "markdown",
   "id": "0ef4cd38-12f1-4616-a45a-a3fdfbb2f6fc",
   "metadata": {},
   "source": [
    "33.Write a Python program to remove duplicates from a list while preserving the order."
   ]
  },
  {
   "cell_type": "code",
   "execution_count": 13,
   "id": "32e03a1e-ba8b-4018-938e-99afb21001ef",
   "metadata": {},
   "outputs": [
    {
     "data": {
      "text/plain": [
       "[15, 1, 19, 68, 78, 85, 95, 35, 64, 52]"
      ]
     },
     "execution_count": 13,
     "metadata": {},
     "output_type": "execute_result"
    }
   ],
   "source": [
    "l13=[15,1,19,68,78,15,19,1,85,95,35,64,52,85]\n",
    "def rem_dupl(l13):\n",
    "    seen = set()\n",
    "    new_list = []\n",
    "    for i in l13:\n",
    "        if i not in seen:\n",
    "            seen.add(i)\n",
    "            new_list.append(i)\n",
    "    return new_list\n",
    "\n",
    "rem_dupl(l13)"
   ]
  },
  {
   "cell_type": "code",
   "execution_count": null,
   "id": "ed7677ed-2bd7-4a69-8629-94903d0ae00b",
   "metadata": {},
   "outputs": [],
   "source": []
  },
  {
   "cell_type": "markdown",
   "id": "1ac8ba5a-b218-466b-8942-36d9ade9164b",
   "metadata": {},
   "source": [
    "34.Implement a function to find the longest common prefix among a list of strings."
   ]
  },
  {
   "cell_type": "code",
   "execution_count": 28,
   "id": "4a5d07a2-1265-4353-851e-8339187caa9a",
   "metadata": {},
   "outputs": [
    {
     "data": {
      "text/plain": [
       "'fl'"
      ]
     },
     "execution_count": 28,
     "metadata": {},
     "output_type": "execute_result"
    }
   ],
   "source": [
    "def long_com_pre(strs):\n",
    "\n",
    "    prefix = strs[0]\n",
    "\n",
    "    for i in range(1, len(strs)):\n",
    "        while strs[i].startswith(prefix) is False:\n",
    "            prefix = prefix[:-1]\n",
    "            if not prefix:\n",
    "                return \"\"\n",
    "\n",
    "    return prefix\n",
    "\n",
    "strs=['flight','flingo','flower']\n",
    "long_com_pre(strs)"
   ]
  },
  {
   "cell_type": "code",
   "execution_count": null,
   "id": "b847d0e4-4df7-48cd-8ad5-a065ec408cb4",
   "metadata": {},
   "outputs": [],
   "source": []
  },
  {
   "cell_type": "markdown",
   "id": "ee0c9125-9400-4265-809c-875ffb2076b5",
   "metadata": {},
   "source": [
    "35.Write a program to check if a given number is a perfect square."
   ]
  },
  {
   "cell_type": "code",
   "execution_count": 31,
   "id": "92157d6d-b1e9-4cb2-b7a2-72c292d4e439",
   "metadata": {},
   "outputs": [
    {
     "name": "stdout",
     "output_type": "stream",
     "text": [
      "True\n"
     ]
    }
   ],
   "source": [
    "def is_perfect_square(number):\n",
    "    '''checking given number is pefect square or not'''\n",
    "    for i in range(1, number + 1):\n",
    "        if i * i == number:\n",
    "            return True\n",
    "    return False\n",
    "\n",
    "\n",
    "print(is_perfect_square(576))"
   ]
  },
  {
   "cell_type": "code",
   "execution_count": null,
   "id": "31b5ed16-61b2-4591-86cb-c459ba64b8bd",
   "metadata": {},
   "outputs": [],
   "source": []
  },
  {
   "cell_type": "markdown",
   "id": "1ac879ac-4c7e-4ce7-a03c-3b65130c0320",
   "metadata": {},
   "source": [
    "36.Implement a function to calculate the product of all elements in a list."
   ]
  },
  {
   "cell_type": "code",
   "execution_count": 37,
   "id": "0b3c50ed-9ee0-4708-89eb-5acaef575774",
   "metadata": {},
   "outputs": [
    {
     "data": {
      "text/plain": [
       "643104000"
      ]
     },
     "execution_count": 37,
     "metadata": {},
     "output_type": "execute_result"
    }
   ],
   "source": [
    "from functools import reduce\n",
    "reduce(lambda x,y:x*y ,[12,10,56,87,55,20])"
   ]
  },
  {
   "cell_type": "code",
   "execution_count": null,
   "id": "c93a4f31-80f4-4d40-a080-711bebab0746",
   "metadata": {},
   "outputs": [],
   "source": []
  },
  {
   "cell_type": "markdown",
   "id": "dc1a6b3d-8616-40bd-a7ba-aaa75e0dc692",
   "metadata": {},
   "source": [
    "37.Write a Python program to reverse the order of words in a sentence while preserving the word order."
   ]
  },
  {
   "cell_type": "code",
   "execution_count": 41,
   "id": "eef06cc5-2c06-44f7-8969-331dabe883c3",
   "metadata": {},
   "outputs": [
    {
     "name": "stdout",
     "output_type": "stream",
     "text": [
      "sentence. a is This\n"
     ]
    }
   ],
   "source": [
    "def rev_words(sentence):\n",
    "    '''reverse the order of words in a sentence while preserving the word order\n",
    "    '''\n",
    "    words = sentence.split(\" \")\n",
    "    reversed_words = []\n",
    "    for word in words:\n",
    "        reversed_words.insert(0, word)\n",
    "    return \" \".join(reversed_words)\n",
    "\n",
    "\n",
    "sentence = \"This is a sentence.\"\n",
    "print(rev_words(sentence))"
   ]
  },
  {
   "cell_type": "code",
   "execution_count": null,
   "id": "9cbb37df-df3c-4596-8ca6-3baecfc47bf2",
   "metadata": {},
   "outputs": [],
   "source": []
  },
  {
   "cell_type": "markdown",
   "id": "f42e9c15-e3d0-409f-8457-a9f090cc22ce",
   "metadata": {},
   "source": [
    "38.Implement a function to find the missing number in a given list of consecutive numbers."
   ]
  },
  {
   "cell_type": "code",
   "execution_count": 59,
   "id": "bb60819f-7741-4dda-8c95-8f29e438ee4a",
   "metadata": {},
   "outputs": [
    {
     "name": "stdout",
     "output_type": "stream",
     "text": [
      "8\n"
     ]
    }
   ],
   "source": [
    "l13=[1,2,3,4,5,6,7,9]\n",
    "def find_missing_number(l13):\n",
    "    '''find the missing number in a given list of consecutive numbers.\n",
    "    '''\n",
    "    for i in range(len(l13)):\n",
    "        if i + 1 != l13[i]:\n",
    "            return i + 1\n",
    "    return None\n",
    "\n",
    "\n",
    "print(find_missing_number(l13))\n"
   ]
  },
  {
   "cell_type": "code",
   "execution_count": null,
   "id": "9fa8a9c8-c2bf-4761-a66c-1cb8783c3988",
   "metadata": {},
   "outputs": [],
   "source": []
  },
  {
   "cell_type": "markdown",
   "id": "7804fb8e-9889-4332-a678-20c3469947cd",
   "metadata": {},
   "source": [
    "39.Write a program to find the sum of digits of a given number."
   ]
  },
  {
   "cell_type": "code",
   "execution_count": 65,
   "id": "e84bd426-fcee-4174-83a5-a3a622f190b6",
   "metadata": {},
   "outputs": [
    {
     "name": "stdin",
     "output_type": "stream",
     "text": [
      "enter a number 456\n"
     ]
    },
    {
     "data": {
      "text/plain": [
       "15"
      ]
     },
     "execution_count": 65,
     "metadata": {},
     "output_type": "execute_result"
    }
   ],
   "source": [
    "user = str(int(input('enter a number')))\n",
    "sum_digit=0\n",
    "for i in user:\n",
    "    sum_digit+=int(i)\n",
    "    \n",
    "sum_digit    \n",
    "    \n"
   ]
  },
  {
   "cell_type": "code",
   "execution_count": null,
   "id": "e02b4561-42c2-4690-9fa2-7ffdb1ef7ec2",
   "metadata": {},
   "outputs": [],
   "source": []
  },
  {
   "cell_type": "markdown",
   "id": "ecfca975-0717-4ba7-9cf1-f151342ed9d3",
   "metadata": {},
   "source": [
    "40.Implement a function to check if a given string is a valid palindrome considering case sensitivity."
   ]
  },
  {
   "cell_type": "code",
   "execution_count": 67,
   "id": "3bb17eae-dbcf-4637-89fd-d7d238d47de6",
   "metadata": {},
   "outputs": [
    {
     "data": {
      "text/plain": [
       "False"
      ]
     },
     "execution_count": 67,
     "metadata": {},
     "output_type": "execute_result"
    }
   ],
   "source": [
    "def palindrone_num(strings):\n",
    "    '''check if a given string is a valid palindrome considering case sensitivity.'''\n",
    "    if strings==strings[::-1]:\n",
    "        return True\n",
    "    else:\n",
    "        return False\n",
    "        \n",
    "strings='palap'\n",
    "palindrone_num(strings)\n",
    "    "
   ]
  },
  {
   "cell_type": "code",
   "execution_count": null,
   "id": "726b4065-f5af-4f3b-a4a7-047e492457a9",
   "metadata": {},
   "outputs": [],
   "source": []
  },
  {
   "cell_type": "markdown",
   "id": "cca53460-46c3-4f91-814c-5473a51ccb16",
   "metadata": {},
   "source": [
    "41.Write a Python program to find the smallest missing positive integer in a list."
   ]
  },
  {
   "cell_type": "code",
   "execution_count": 71,
   "id": "6ccbe94f-16d7-41ca-b7f8-d0059cf49cfe",
   "metadata": {},
   "outputs": [
    {
     "data": {
      "text/plain": [
       "3"
      ]
     },
     "execution_count": 71,
     "metadata": {},
     "output_type": "execute_result"
    }
   ],
   "source": [
    "l14=[1,2,3,5,6,9,15,16]\n",
    "def miss_pos_int(l14):\n",
    "    '''find the smallest missing positive integer in a list.'''\n",
    "    \n",
    "    for i in range(len(l14)):\n",
    "        if l14[i]!=i+1:\n",
    "            return l14[i-1]\n",
    "        else:\n",
    "            continue\n",
    "            \n",
    "miss_pos_int(l14)            "
   ]
  },
  {
   "cell_type": "code",
   "execution_count": null,
   "id": "f763c543-d526-43cd-a7a8-a426bc5a06c3",
   "metadata": {},
   "outputs": [],
   "source": []
  },
  {
   "cell_type": "markdown",
   "id": "c4e4de3b-76fd-4413-b902-da5d4d6e07b1",
   "metadata": {},
   "source": [
    "42.Implement a function to find the longest palindrome substring in a given string."
   ]
  },
  {
   "cell_type": "code",
   "execution_count": 3,
   "id": "fc269cbe-ebf5-4d00-841e-2d31652dd641",
   "metadata": {},
   "outputs": [
    {
     "data": {
      "text/plain": [
       "'a'"
      ]
     },
     "execution_count": 3,
     "metadata": {},
     "output_type": "execute_result"
    }
   ],
   "source": [
    "def longest_palindrome(string):\n",
    "    ''' function to find the longest palindrome substring in a given string.'''\n",
    "    longest_palindrome = \"\"\n",
    "    n = len(string)\n",
    "    for i in range(n):\n",
    "        for j in range(i, n):\n",
    "            if string[i:j+1] == string[j:i-1:-1]:\n",
    "                if len(string[i:j+1]) > len(longest_palindrome):\n",
    "                    longest_palindrome = string[i:j+1]\n",
    "    return longest_palindrome\n",
    "\n",
    "string='paper'\n",
    "longest_palindrome(string)"
   ]
  },
  {
   "cell_type": "code",
   "execution_count": null,
   "id": "9d514684-084a-45b2-83a8-83637b7df8a7",
   "metadata": {},
   "outputs": [],
   "source": []
  },
  {
   "cell_type": "markdown",
   "id": "6d0bdf05-34c9-464c-b4a2-78a7b6d07ab0",
   "metadata": {},
   "source": [
    "43.Write a program to find the number of occurrences of a given element in a list."
   ]
  },
  {
   "cell_type": "code",
   "execution_count": 5,
   "id": "4eeee07d-6bbc-485b-8e00-7da03c73b006",
   "metadata": {},
   "outputs": [
    {
     "data": {
      "text/plain": [
       "3"
      ]
     },
     "execution_count": 5,
     "metadata": {},
     "output_type": "execute_result"
    }
   ],
   "source": [
    "def count_occurrences_2(list, element):\n",
    "    '''find the number of occurrences of a given element in a list.'''\n",
    "    return list.count(element)\n",
    "\n",
    "l15=[14,25,14,86,48,14,25]\n",
    "count_occurrences_2(l15,14)"
   ]
  },
  {
   "cell_type": "code",
   "execution_count": null,
   "id": "ea8451b9-b056-4bd3-9447-180212ee17a1",
   "metadata": {},
   "outputs": [],
   "source": []
  },
  {
   "cell_type": "markdown",
   "id": "8210a1b2-0963-4c31-b48b-f6afdf55e4e5",
   "metadata": {},
   "source": [
    "44.Implement a function to check if a given number is a perfect number."
   ]
  },
  {
   "cell_type": "code",
   "execution_count": 11,
   "id": "adfaae11-d0a0-4843-b919-b4c8112771aa",
   "metadata": {},
   "outputs": [
    {
     "data": {
      "text/plain": [
       "True"
      ]
     },
     "execution_count": 11,
     "metadata": {},
     "output_type": "execute_result"
    }
   ],
   "source": [
    "def is_perfect_number(number):\n",
    "    '''function to check if a given number is a perfect number.'''\n",
    "\n",
    "    factors = []\n",
    "    for i in range(1, number):\n",
    "        if number % i == 0:\n",
    "            factors.append(i)\n",
    "\n",
    "    if sum(factors) == number:\n",
    "        return True\n",
    "    else:\n",
    "        return False\n",
    "    \n",
    "is_perfect_number(28)    "
   ]
  },
  {
   "cell_type": "code",
   "execution_count": null,
   "id": "727e2116-2ec9-46c8-a76c-d145d2d95e97",
   "metadata": {},
   "outputs": [],
   "source": []
  },
  {
   "cell_type": "markdown",
   "id": "88738179-cc5e-49ad-96ad-707c4b2947ce",
   "metadata": {},
   "source": [
    "45.Write a Python program to remove all duplicates from a string."
   ]
  },
  {
   "cell_type": "code",
   "execution_count": 16,
   "id": "cbaa4cb5-933f-4433-80de-1e1dea72dc73",
   "metadata": {},
   "outputs": [
    {
     "data": {
      "text/plain": [
       "'dat scien'"
      ]
     },
     "execution_count": 16,
     "metadata": {},
     "output_type": "execute_result"
    }
   ],
   "source": [
    "def remove_duplicates(string):\n",
    "    '''program to remove all duplicates from a string.'''\n",
    "    seen = set()\n",
    "    new_string = \"\"\n",
    "    for char in string:\n",
    "        if char not in seen:\n",
    "            new_string += char\n",
    "            seen.add(char)\n",
    "    return new_string\n",
    "\n",
    "remove_duplicates('data science')"
   ]
  },
  {
   "cell_type": "code",
   "execution_count": null,
   "id": "f2dab6bd-0718-4660-acec-5a1d6c7112d9",
   "metadata": {},
   "outputs": [],
   "source": []
  },
  {
   "cell_type": "markdown",
   "id": "810f152d-8fc6-46dc-b0a0-43cd2b18b71d",
   "metadata": {},
   "source": [
    "46.Implement a function to find the first missing positive"
   ]
  },
  {
   "cell_type": "code",
   "execution_count": 20,
   "id": "99fb798c-91ce-4b2a-9224-92f469a12895",
   "metadata": {},
   "outputs": [
    {
     "name": "stdout",
     "output_type": "stream",
     "text": [
      "4\n"
     ]
    }
   ],
   "source": [
    "def first_missing_positive(nums):\n",
    "    '''function to find the first missing positive'''\n",
    "    seen = set()\n",
    "    for i in range(1, len(nums) + 1):\n",
    "        if i not in seen and i not in nums:\n",
    "            return i\n",
    "    return len(nums) + 1\n",
    "\n",
    "\n",
    "nums = [1, 2, 0, 3, 5]\n",
    "print(first_missing_positive(nums))\n"
   ]
  },
  {
   "cell_type": "code",
   "execution_count": null,
   "id": "f01b799e-ded6-4d70-88df-6b8de27ba814",
   "metadata": {},
   "outputs": [],
   "source": []
  },
  {
   "cell_type": "code",
   "execution_count": null,
   "id": "aff13c1d-4739-434d-8cbd-7aa927bdf4eb",
   "metadata": {},
   "outputs": [],
   "source": []
  },
  {
   "cell_type": "code",
   "execution_count": null,
   "id": "a6d583fb-a2c1-4ccc-84c3-cdfbf63b3118",
   "metadata": {},
   "outputs": [],
   "source": []
  },
  {
   "cell_type": "code",
   "execution_count": null,
   "id": "75a4bb26-4fd6-4a82-9234-774109ba9d75",
   "metadata": {},
   "outputs": [],
   "source": []
  },
  {
   "cell_type": "code",
   "execution_count": null,
   "id": "1100b731-3e7d-4ef1-b74b-a52bb18f0f0e",
   "metadata": {},
   "outputs": [],
   "source": []
  },
  {
   "cell_type": "code",
   "execution_count": null,
   "id": "4891c037-4834-43f5-a88d-de7b9c35b3a4",
   "metadata": {},
   "outputs": [],
   "source": []
  },
  {
   "cell_type": "code",
   "execution_count": null,
   "id": "0b314fae-e066-4984-95a2-89131cf2fb09",
   "metadata": {},
   "outputs": [],
   "source": []
  },
  {
   "cell_type": "code",
   "execution_count": null,
   "id": "b6c6a59f-d744-498b-8cbf-6b895f77f0d5",
   "metadata": {},
   "outputs": [],
   "source": []
  },
  {
   "cell_type": "code",
   "execution_count": null,
   "id": "4ef4c92b-08ec-41ff-88fe-2a8cfaa8c4bf",
   "metadata": {},
   "outputs": [],
   "source": []
  },
  {
   "cell_type": "code",
   "execution_count": null,
   "id": "5ea60547-9052-4053-8e90-5bd34ccc4a62",
   "metadata": {},
   "outputs": [],
   "source": []
  },
  {
   "cell_type": "code",
   "execution_count": null,
   "id": "5962ef0e-b5eb-4d57-8c3e-fabddbf97078",
   "metadata": {},
   "outputs": [],
   "source": []
  },
  {
   "cell_type": "code",
   "execution_count": null,
   "id": "d8bbea52-0b36-409e-a612-05720382ecfe",
   "metadata": {},
   "outputs": [],
   "source": []
  },
  {
   "cell_type": "code",
   "execution_count": null,
   "id": "2d34e28f-9ad5-4297-994f-0c0ed9bc62a8",
   "metadata": {},
   "outputs": [],
   "source": []
  },
  {
   "cell_type": "code",
   "execution_count": null,
   "id": "af9c62ef-25c0-4470-93d1-56e545715da8",
   "metadata": {},
   "outputs": [],
   "source": []
  },
  {
   "cell_type": "code",
   "execution_count": null,
   "id": "27497a3e-41fb-4add-9068-2bc9755a579f",
   "metadata": {},
   "outputs": [],
   "source": []
  },
  {
   "cell_type": "code",
   "execution_count": null,
   "id": "872a6159-f1ae-453c-ae64-7180d979eb72",
   "metadata": {},
   "outputs": [],
   "source": []
  },
  {
   "cell_type": "code",
   "execution_count": null,
   "id": "0a9426da-c646-4ba9-a334-a567c136f27d",
   "metadata": {},
   "outputs": [],
   "source": []
  },
  {
   "cell_type": "code",
   "execution_count": null,
   "id": "33d9002a-6171-4f34-b876-c9de87ba2a04",
   "metadata": {},
   "outputs": [],
   "source": []
  },
  {
   "cell_type": "code",
   "execution_count": null,
   "id": "c1a80d2b-8de9-4d33-bc05-526f90bf6513",
   "metadata": {},
   "outputs": [],
   "source": []
  },
  {
   "cell_type": "code",
   "execution_count": null,
   "id": "93fb9e97-2376-4468-9abe-bb100f74850e",
   "metadata": {},
   "outputs": [],
   "source": []
  },
  {
   "cell_type": "code",
   "execution_count": null,
   "id": "24a572cd-8479-499e-839b-f0d1e550a50b",
   "metadata": {},
   "outputs": [],
   "source": []
  },
  {
   "cell_type": "code",
   "execution_count": null,
   "id": "6ccc2faf-c1e0-455d-bc61-20f16d198a89",
   "metadata": {},
   "outputs": [],
   "source": []
  },
  {
   "cell_type": "code",
   "execution_count": null,
   "id": "a07735d7-4d83-48b3-85c2-f12705297e87",
   "metadata": {},
   "outputs": [],
   "source": []
  },
  {
   "cell_type": "code",
   "execution_count": null,
   "id": "b19a9303-1d95-415a-a0bf-7cc64f1cede9",
   "metadata": {},
   "outputs": [],
   "source": []
  },
  {
   "cell_type": "code",
   "execution_count": null,
   "id": "030dc33f-d6b2-4e06-aedb-8b6cfdbd9444",
   "metadata": {},
   "outputs": [],
   "source": []
  },
  {
   "cell_type": "code",
   "execution_count": null,
   "id": "6f2b67bb-3371-4ea0-9cc5-8c49d573447f",
   "metadata": {},
   "outputs": [],
   "source": []
  },
  {
   "cell_type": "code",
   "execution_count": null,
   "id": "b12bb8e6-d5e8-4b55-96f7-fb1cbc76c31d",
   "metadata": {},
   "outputs": [],
   "source": []
  },
  {
   "cell_type": "code",
   "execution_count": null,
   "id": "185cea18-3c45-45cc-a51b-ece9d5660da9",
   "metadata": {},
   "outputs": [],
   "source": []
  },
  {
   "cell_type": "code",
   "execution_count": null,
   "id": "102fd23c-3b77-4c88-887f-ac053dbbf8aa",
   "metadata": {},
   "outputs": [],
   "source": []
  },
  {
   "cell_type": "code",
   "execution_count": null,
   "id": "952478e0-5b3f-48ef-8448-5769a0331249",
   "metadata": {},
   "outputs": [],
   "source": []
  }
 ],
 "metadata": {
  "kernelspec": {
   "display_name": "Python 3 (ipykernel)",
   "language": "python",
   "name": "python3"
  },
  "language_info": {
   "codemirror_mode": {
    "name": "ipython",
    "version": 3
   },
   "file_extension": ".py",
   "mimetype": "text/x-python",
   "name": "python",
   "nbconvert_exporter": "python",
   "pygments_lexer": "ipython3",
   "version": "3.10.8"
  }
 },
 "nbformat": 4,
 "nbformat_minor": 5
}
